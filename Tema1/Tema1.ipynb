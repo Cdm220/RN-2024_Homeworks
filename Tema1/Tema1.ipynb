{
 "cells": [
  {
   "cell_type": "code",
   "execution_count": 94,
   "metadata": {},
   "outputs": [
    {
     "name": "stdout",
     "output_type": "stream",
     "text": [
      "A=[[2.0, 3.0, -1.0], [1.0, -1.0, 4.0], [3.0, 1.0, 2.0]] B=[5.0, 6.0, 7.0]\n"
     ]
    }
   ],
   "source": [
    "# ex1\n",
    "import pathlib\n",
    "\n",
    "def parse_line(equation):\n",
    "\n",
    "    coefficients = {'x': 0, 'y': 0, 'z': 0}\n",
    "    leq, req = equation.split(\" = \")\n",
    "    b = float(req)\n",
    "\n",
    "    s = leq.split(\" \")\n",
    "    sign = 1\n",
    "    if(s[0][0] == '-'):\n",
    "        sign = -1\n",
    "        s[0] = s[0][1:]\n",
    "    \n",
    "    for i in range(len(s)):\n",
    "        if s[i] == '+':\n",
    "            sign = 1\n",
    "        elif s[i] == '-':\n",
    "            sign = -1\n",
    "\n",
    "        if ('x' in s[i]):\n",
    "            number = \"\"\n",
    "            for j in range(len(s[i]) - 1):\n",
    "                number += s[i][j]\n",
    "            if number == \"\":\n",
    "                number = 1\n",
    "            coefficients['x'] += sign * float(number)\n",
    "        elif ('y' in s[i]):\n",
    "            number = \"\"\n",
    "            for j in range(len(s[i]) - 1):\n",
    "                number += s[i][j]\n",
    "            if number == \"\":\n",
    "                number = 1\n",
    "            coefficients['y'] += sign * float(number)\n",
    "        elif ('z' in s[i]):\n",
    "            number = \"\"\n",
    "            for j in range(len(s[i]) - 1):\n",
    "                number += s[i][j]\n",
    "            if number == \"\":\n",
    "                number = 1\n",
    "            coefficients['z'] += sign * float(number)\n",
    "\n",
    "    return [coefficients['x'], coefficients['y'], coefficients['z']], b\n",
    "\n",
    "\n",
    "\n",
    "def load_system(path: pathlib.Path) -> tuple[list[list[float]], list[float]]:\n",
    "    A = []\n",
    "    B = []\n",
    "    with path.open(\"r\") as file:\n",
    "        for line in file:\n",
    "            a, b = parse_line(line)\n",
    "            A.append(a)\n",
    "            B.append(b)\n",
    "    return A, B\n",
    "\n",
    "A, B = load_system(pathlib.Path(\"system.txt\"))\n",
    "print(f\"{A=} {B=}\")"
   ]
  },
  {
   "cell_type": "code",
   "execution_count": 95,
   "metadata": {},
   "outputs": [
    {
     "name": "stdout",
     "output_type": "stream",
     "text": [
      "[[2.0, 3.0, -1.0], [1.0, -1.0, 4.0], [3.0, 1.0, 2.0]]\n",
      "14.0\n"
     ]
    }
   ],
   "source": [
    "# ex2.1\n",
    "def determinant_3x3(matrix: list[list[float]]) -> float:\n",
    "    # det = 0\n",
    "    a11, a12, a13 = matrix[0]\n",
    "    a21, a22, a23 = matrix[1]\n",
    "    a31, a32, a33 = matrix[2]\n",
    "\n",
    "    det = (a11 * (a22 * a33 - a23 * a32) - a12 * (a21 * a33 - a23 * a31) + a13 * (a21 * a32 - a22 * a31))\n",
    "    return det\n",
    "\n",
    "\n",
    "print(A)\n",
    "print(determinant_3x3(A))\n",
    "    \n"
   ]
  },
  {
   "cell_type": "code",
   "execution_count": 96,
   "metadata": {},
   "outputs": [
    {
     "name": "stdout",
     "output_type": "stream",
     "text": [
      "3.0\n"
     ]
    }
   ],
   "source": [
    "# ex2.2\n",
    "def trace(matrix: list[list[float]]) -> float:\n",
    "    a11, a12, a13 = matrix[0]\n",
    "    a21, a22, a23 = matrix[1]\n",
    "    a31, a32, a33 = matrix[2]\n",
    "\n",
    "    return a11 + a22 + a33\n",
    "\n",
    "print(trace(A))"
   ]
  },
  {
   "cell_type": "code",
   "execution_count": 97,
   "metadata": {},
   "outputs": [
    {
     "name": "stdout",
     "output_type": "stream",
     "text": [
      "10.488088481701515\n"
     ]
    }
   ],
   "source": [
    "# ex2.3\n",
    "import math\n",
    "\n",
    "def norm(vector: list[float]) -> float:\n",
    "    return math.sqrt(vector[0] ** 2 + vector[1] ** 2 + vector[2] ** 2)\n",
    "\n",
    "print(norm(B))"
   ]
  },
  {
   "cell_type": "code",
   "execution_count": 98,
   "metadata": {},
   "outputs": [
    {
     "name": "stdout",
     "output_type": "stream",
     "text": [
      "[[2.0, 1.0, 3.0], [3.0, -1.0, 1.0], [-1.0, 4.0, 2.0]]\n"
     ]
    }
   ],
   "source": [
    "# ex2.4\n",
    "def transpose(matrix: list[list[float]]) -> list[list[float]]:\n",
    "    newMatrix = []\n",
    "    for i in range(len(matrix[0])):\n",
    "        newMatrix.append([matrix[0][i], matrix[1][i], matrix[2][i]])\n",
    "    return newMatrix\n",
    "\n",
    "print(transpose(A))"
   ]
  },
  {
   "cell_type": "code",
   "execution_count": 99,
   "metadata": {},
   "outputs": [
    {
     "name": "stdout",
     "output_type": "stream",
     "text": [
      "[21.0, 27.0, 35.0]\n"
     ]
    }
   ],
   "source": [
    "# ex2.5\n",
    "def multiplication(matrix: list[list[float]], vector: list[float]) -> list[float]:\n",
    "    result = [0, 0, 0]\n",
    "    for i in range(len(matrix)):\n",
    "        for j in range(len(vector)):\n",
    "            result[i] += matrix[i][j] * vector[j]\n",
    "    return result\n",
    "\n",
    "print(multiplication(A, B))"
   ]
  },
  {
   "cell_type": "code",
   "execution_count": 100,
   "metadata": {},
   "outputs": [
    {
     "name": "stdout",
     "output_type": "stream",
     "text": [
      "[0.35714285714285715, 2.0714285714285716, 1.9285714285714286]\n"
     ]
    }
   ],
   "source": [
    "# ex3\n",
    "\n",
    "def copyMatrix(matrix: list[list[float]]) -> list[list[float]]:\n",
    "    newMatrix = []\n",
    "    for i in range(len(matrix)):\n",
    "        newMatrix.append([])\n",
    "        for j in range(len(matrix[0])):\n",
    "            newMatrix[i].append(matrix[i][j])\n",
    "    return newMatrix\n",
    "\n",
    "def cramer(A: list[list[float]], B: list[float]) -> list[float]:\n",
    "    detA = determinant_3x3(A)\n",
    "    x = []\n",
    "    for i in range(len(A)):\n",
    "        newMatrix = copyMatrix(A)\n",
    "        for j in range(len(A)):\n",
    "            newMatrix[j][i] = B[j]\n",
    "        x.append(determinant_3x3(newMatrix) / detA)\n",
    "    return x\n",
    "\n",
    "print(cramer(A, B))"
   ]
  },
  {
   "cell_type": "code",
   "execution_count": 101,
   "metadata": {},
   "outputs": [
    {
     "name": "stdout",
     "output_type": "stream",
     "text": [
      "[[-0.42857142857142855, -0.5, 0.7857142857142857], [0.7142857142857143, 0.5, -0.6428571428571429], [0.2857142857142857, 0.5, -0.35714285714285715]]\n"
     ]
    }
   ],
   "source": [
    "# ex4\n",
    "def determinant_2x2(matrix: list[list[float]]) -> float:\n",
    "    return matrix[0][0] * matrix[1][1] - matrix[0][1] * matrix[1][0]\n",
    "\n",
    "def cofactor(matrix: list[list[float]]) -> list[list[float]]:\n",
    "    newMatrix = []\n",
    "    for i in range(len(matrix)):\n",
    "        newRow = []\n",
    "        for j in range(len(matrix[i])):\n",
    "            minorMatrix = []\n",
    "            for k in range(len(matrix)):\n",
    "                if k != i:\n",
    "                    newM = []\n",
    "                    for l in range(len(matrix[k])):\n",
    "                        if l != j:\n",
    "                            newM.append(matrix[k][l])\n",
    "                    minorMatrix.append(newM)\n",
    "            newRow.append(((-1) ** (i + j)) * determinant_2x2(minorMatrix))\n",
    "        newMatrix.append(newRow)\n",
    "    \n",
    "    return newMatrix\n",
    "\n",
    "\n",
    "def adjugate(matrix: list[list[float]]) -> list[list[float]]:\n",
    "    return transpose(cofactor(matrix))\n",
    "\n",
    "def inversion(matrix: list[list[float]]) -> list[list[float]]:\n",
    "    det = determinant_3x3(matrix)\n",
    "    if det == 0:\n",
    "        return None\n",
    "    adj = adjugate(matrix)\n",
    "    for i in range(len(adj)):\n",
    "        for j in range(len(adj[i])):\n",
    "            adj[i][j] /= det\n",
    "    return adj\n",
    "\n",
    "print(inversion(A))"
   ]
  }
 ],
 "metadata": {
  "kernelspec": {
   "display_name": "Python 3",
   "language": "python",
   "name": "python3"
  },
  "language_info": {
   "codemirror_mode": {
    "name": "ipython",
    "version": 3
   },
   "file_extension": ".py",
   "mimetype": "text/x-python",
   "name": "python",
   "nbconvert_exporter": "python",
   "pygments_lexer": "ipython3",
   "version": "3.12.7"
  }
 },
 "nbformat": 4,
 "nbformat_minor": 2
}
